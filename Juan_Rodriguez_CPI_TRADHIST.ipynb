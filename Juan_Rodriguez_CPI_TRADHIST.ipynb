{
  "nbformat": 4,
  "nbformat_minor": 0,
  "metadata": {
    "colab": {
      "provenance": []
    },
    "kernelspec": {
      "name": "python3",
      "display_name": "Python 3"
    },
    "language_info": {
      "name": "python"
    }
  },
  "cells": [
    {
      "cell_type": "code",
      "source": [
        "# Import necessary libraries\n",
        "import pandas as pd\n",
        "from sklearn.neighbors import NearestNeighbors\n",
        "from statsmodels.formula.api import logit\n",
        "\n",
        "# Load the datasets\n",
        "tradhist_df = pd.read_stata('/content/TRADHIST_WP.dta')\n",
        "inflation_css_df = pd.read_stata('/content/Inflation_CSS.dta')\n",
        "\n",
        "# Merge the datasets based on 'year'\n",
        "merged_df = pd.merge(tradhist_df, inflation_css_df, on='year', how='inner')\n",
        "\n",
        "# Create a binary treatment variable based on your criteria\n",
        "merged_df['treatment'] = (merged_df['IPTOT_o'] > merged_df['IPTOT_o'].median()).astype(int)\n",
        "\n",
        "# Calculate propensity scores\n",
        "model = logit(\"treatment ~ cpicss\", merged_df).fit()\n",
        "merged_df['propensity_score'] = model.predict()\n",
        "\n",
        "# Split the data into treated and control groups\n",
        "treated = merged_df[merged_df['treatment'] == 1]\n",
        "control = merged_df[merged_df['treatment'] == 0]\n",
        "\n",
        "# Use NearestNeighbors from sklearn for matching\n",
        "nn = NearestNeighbors(n_neighbors=1, algorithm='ball_tree').fit(control[['propensity_score']])\n",
        "\n",
        "# For each treated instance, find its nearest neighbor in the control group\n",
        "_, indices = nn.kneighbors(treated[['propensity_score']])\n",
        "\n",
        "# Extract matched control instances\n",
        "matched_control_indices = indices.flatten()\n",
        "matched_control = control.iloc[matched_control_indices]\n",
        "\n",
        "# Concatenate matched treated and control instances for analysis\n",
        "matched_df = pd.concat([treated, matched_control])\n",
        "\n",
        "# matched_df now contains the matched treatment and control units for further analysis\n"
      ],
      "metadata": {
        "colab": {
          "base_uri": "https://localhost:8080/"
        },
        "id": "8185ZLty-lss",
        "outputId": "63da406c-fc04-4112-8335-d6ce9c88b830"
      },
      "execution_count": null,
      "outputs": [
        {
          "output_type": "stream",
          "name": "stdout",
          "text": [
            "Optimization terminated successfully.\n",
            "         Current function value: 0.689349\n",
            "         Iterations 3\n"
          ]
        }
      ]
    },
    {
      "cell_type": "code",
      "execution_count": null,
      "metadata": {
        "id": "SCpo-am98wpT"
      },
      "outputs": [],
      "source": []
    },
    {
      "cell_type": "code",
      "source": [],
      "metadata": {
        "id": "_IC6K4-wAQq3"
      },
      "execution_count": null,
      "outputs": []
    },
    {
      "cell_type": "code",
      "source": [],
      "metadata": {
        "id": "31kfvtRL_7lD"
      },
      "execution_count": null,
      "outputs": []
    }
  ]
}